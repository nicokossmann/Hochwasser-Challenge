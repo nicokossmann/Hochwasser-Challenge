{
 "cells": [
  {
   "cell_type": "code",
   "execution_count": 23,
   "metadata": {},
   "outputs": [],
   "source": [
    "import pandas as pd\n",
    "import numpy as np\n",
    "from sklearn.preprocessing import StandardScaler\n",
    "import matplotlib.pyplot as plt\n",
    "import tensorflow as tf\n",
    "import os"
   ]
  },
  {
   "cell_type": "code",
   "execution_count": 118,
   "metadata": {},
   "outputs": [],
   "source": [
    "# Params\n",
    "path_data_train = 'data/x_train.csv'\n",
    "path_data_test = 'data/x_test.csv'\n",
    "n_features = 5\n",
    "n_past = 48\n",
    "n_future = 12"
   ]
  },
  {
   "cell_type": "code",
   "execution_count": 96,
   "metadata": {},
   "outputs": [],
   "source": [
    "def data_import(path_data, n_features = 5):\n",
    "    raw_data = pd.read_csv(path_data, sep=\";\", date_parser=\"date\")\n",
    "    raw_data.date = pd.to_datetime(raw_data.date)\n",
    "    raw_data.index = raw_data.date\n",
    "    raw_data = raw_data.drop(columns=['date'], axis=0)\n",
    "    print(raw_data.isnull().sum())\n",
    "    #Entfernen der Precipitation, Barmen Wuppertal Verband\n",
    "    raw_data=raw_data.iloc[:,0:n_features]\n",
    "    return raw_data"
   ]
  },
  {
   "cell_type": "code",
   "execution_count": 97,
   "metadata": {},
   "outputs": [
    {
     "name": "stdout",
     "output_type": "stream",
     "text": [
      "Discharge,  Stausee Beyenburg                           0\n",
      "Water Level,  Stausee Beyenburg                         0\n",
      "Water Level,  Kluserbrücke                              0\n",
      "Precipitation,  Beyenburg                               0\n",
      "Water Level,  Leimbach                                  0\n",
      "Precipitation,  Barmen Wupperverband Hauptverwaltung    0\n",
      "dtype: int64\n"
     ]
    },
    {
     "data": {
      "text/html": [
       "<div>\n",
       "<style scoped>\n",
       "    .dataframe tbody tr th:only-of-type {\n",
       "        vertical-align: middle;\n",
       "    }\n",
       "\n",
       "    .dataframe tbody tr th {\n",
       "        vertical-align: top;\n",
       "    }\n",
       "\n",
       "    .dataframe thead th {\n",
       "        text-align: right;\n",
       "    }\n",
       "</style>\n",
       "<table border=\"1\" class=\"dataframe\">\n",
       "  <thead>\n",
       "    <tr style=\"text-align: right;\">\n",
       "      <th></th>\n",
       "      <th>Discharge,  Stausee Beyenburg</th>\n",
       "      <th>Water Level,  Stausee Beyenburg</th>\n",
       "      <th>Water Level,  Kluserbrücke</th>\n",
       "      <th>Precipitation,  Beyenburg</th>\n",
       "      <th>Water Level,  Leimbach</th>\n",
       "    </tr>\n",
       "    <tr>\n",
       "      <th>date</th>\n",
       "      <th></th>\n",
       "      <th></th>\n",
       "      <th></th>\n",
       "      <th></th>\n",
       "      <th></th>\n",
       "    </tr>\n",
       "  </thead>\n",
       "  <tbody>\n",
       "    <tr>\n",
       "      <th>2020-03-28 08:00:00</th>\n",
       "      <td>1.950000</td>\n",
       "      <td>23.500000</td>\n",
       "      <td>18.750000</td>\n",
       "      <td>0.0</td>\n",
       "      <td>7.680000</td>\n",
       "    </tr>\n",
       "    <tr>\n",
       "      <th>2020-03-28 08:30:00</th>\n",
       "      <td>1.950000</td>\n",
       "      <td>23.416667</td>\n",
       "      <td>18.723077</td>\n",
       "      <td>0.0</td>\n",
       "      <td>7.180000</td>\n",
       "    </tr>\n",
       "    <tr>\n",
       "      <th>2020-03-28 09:00:00</th>\n",
       "      <td>1.950000</td>\n",
       "      <td>23.683333</td>\n",
       "      <td>18.740000</td>\n",
       "      <td>0.0</td>\n",
       "      <td>6.666667</td>\n",
       "    </tr>\n",
       "    <tr>\n",
       "      <th>2020-03-28 09:30:00</th>\n",
       "      <td>1.950000</td>\n",
       "      <td>23.840000</td>\n",
       "      <td>18.692857</td>\n",
       "      <td>0.0</td>\n",
       "      <td>6.783333</td>\n",
       "    </tr>\n",
       "    <tr>\n",
       "      <th>2020-03-28 10:00:00</th>\n",
       "      <td>1.963333</td>\n",
       "      <td>23.980000</td>\n",
       "      <td>18.720000</td>\n",
       "      <td>0.0</td>\n",
       "      <td>6.700000</td>\n",
       "    </tr>\n",
       "    <tr>\n",
       "      <th>...</th>\n",
       "      <td>...</td>\n",
       "      <td>...</td>\n",
       "      <td>...</td>\n",
       "      <td>...</td>\n",
       "      <td>...</td>\n",
       "    </tr>\n",
       "    <tr>\n",
       "      <th>2022-02-16 22:00:00</th>\n",
       "      <td>18.708333</td>\n",
       "      <td>92.380000</td>\n",
       "      <td>86.866667</td>\n",
       "      <td>28.0</td>\n",
       "      <td>15.250000</td>\n",
       "    </tr>\n",
       "    <tr>\n",
       "      <th>2022-02-16 22:30:00</th>\n",
       "      <td>18.941667</td>\n",
       "      <td>92.766667</td>\n",
       "      <td>86.750000</td>\n",
       "      <td>28.0</td>\n",
       "      <td>15.100000</td>\n",
       "    </tr>\n",
       "    <tr>\n",
       "      <th>2022-02-16 23:00:00</th>\n",
       "      <td>18.883333</td>\n",
       "      <td>92.616667</td>\n",
       "      <td>87.083333</td>\n",
       "      <td>10.0</td>\n",
       "      <td>14.966667</td>\n",
       "    </tr>\n",
       "    <tr>\n",
       "      <th>2022-02-16 23:30:00</th>\n",
       "      <td>18.741667</td>\n",
       "      <td>92.633333</td>\n",
       "      <td>86.966667</td>\n",
       "      <td>10.0</td>\n",
       "      <td>14.233333</td>\n",
       "    </tr>\n",
       "    <tr>\n",
       "      <th>2022-02-17 00:00:00</th>\n",
       "      <td>18.418333</td>\n",
       "      <td>92.450000</td>\n",
       "      <td>86.633333</td>\n",
       "      <td>10.0</td>\n",
       "      <td>13.783333</td>\n",
       "    </tr>\n",
       "  </tbody>\n",
       "</table>\n",
       "<p>33153 rows × 5 columns</p>\n",
       "</div>"
      ],
      "text/plain": [
       "                     Discharge,  Stausee Beyenburg  \\\n",
       "date                                                 \n",
       "2020-03-28 08:00:00                       1.950000   \n",
       "2020-03-28 08:30:00                       1.950000   \n",
       "2020-03-28 09:00:00                       1.950000   \n",
       "2020-03-28 09:30:00                       1.950000   \n",
       "2020-03-28 10:00:00                       1.963333   \n",
       "...                                            ...   \n",
       "2022-02-16 22:00:00                      18.708333   \n",
       "2022-02-16 22:30:00                      18.941667   \n",
       "2022-02-16 23:00:00                      18.883333   \n",
       "2022-02-16 23:30:00                      18.741667   \n",
       "2022-02-17 00:00:00                      18.418333   \n",
       "\n",
       "                     Water Level,  Stausee Beyenburg  \\\n",
       "date                                                   \n",
       "2020-03-28 08:00:00                        23.500000   \n",
       "2020-03-28 08:30:00                        23.416667   \n",
       "2020-03-28 09:00:00                        23.683333   \n",
       "2020-03-28 09:30:00                        23.840000   \n",
       "2020-03-28 10:00:00                        23.980000   \n",
       "...                                              ...   \n",
       "2022-02-16 22:00:00                        92.380000   \n",
       "2022-02-16 22:30:00                        92.766667   \n",
       "2022-02-16 23:00:00                        92.616667   \n",
       "2022-02-16 23:30:00                        92.633333   \n",
       "2022-02-17 00:00:00                        92.450000   \n",
       "\n",
       "                     Water Level,  Kluserbrücke  Precipitation,  Beyenburg  \\\n",
       "date                                                                         \n",
       "2020-03-28 08:00:00                   18.750000                        0.0   \n",
       "2020-03-28 08:30:00                   18.723077                        0.0   \n",
       "2020-03-28 09:00:00                   18.740000                        0.0   \n",
       "2020-03-28 09:30:00                   18.692857                        0.0   \n",
       "2020-03-28 10:00:00                   18.720000                        0.0   \n",
       "...                                         ...                        ...   \n",
       "2022-02-16 22:00:00                   86.866667                       28.0   \n",
       "2022-02-16 22:30:00                   86.750000                       28.0   \n",
       "2022-02-16 23:00:00                   87.083333                       10.0   \n",
       "2022-02-16 23:30:00                   86.966667                       10.0   \n",
       "2022-02-17 00:00:00                   86.633333                       10.0   \n",
       "\n",
       "                     Water Level,  Leimbach  \n",
       "date                                         \n",
       "2020-03-28 08:00:00                7.680000  \n",
       "2020-03-28 08:30:00                7.180000  \n",
       "2020-03-28 09:00:00                6.666667  \n",
       "2020-03-28 09:30:00                6.783333  \n",
       "2020-03-28 10:00:00                6.700000  \n",
       "...                                     ...  \n",
       "2022-02-16 22:00:00               15.250000  \n",
       "2022-02-16 22:30:00               15.100000  \n",
       "2022-02-16 23:00:00               14.966667  \n",
       "2022-02-16 23:30:00               14.233333  \n",
       "2022-02-17 00:00:00               13.783333  \n",
       "\n",
       "[33153 rows x 5 columns]"
      ]
     },
     "execution_count": 97,
     "metadata": {},
     "output_type": "execute_result"
    }
   ],
   "source": [
    "raw_data = data_import(path_data=path_data_train)\n",
    "raw_data"
   ]
  },
  {
   "cell_type": "code",
   "execution_count": 109,
   "metadata": {},
   "outputs": [
    {
     "name": "stdout",
     "output_type": "stream",
     "text": [
      "Discharge,  Stausee Beyenburg                           0\n",
      "Water Level,  Stausee Beyenburg                         0\n",
      "Water Level,  Kluserbrücke                              0\n",
      "Precipitation,  Beyenburg                               0\n",
      "Water Level,  Leimbach                                  0\n",
      "Precipitation,  Barmen Wupperverband Hauptverwaltung    0\n",
      "dtype: int64\n"
     ]
    },
    {
     "data": {
      "text/html": [
       "<div>\n",
       "<style scoped>\n",
       "    .dataframe tbody tr th:only-of-type {\n",
       "        vertical-align: middle;\n",
       "    }\n",
       "\n",
       "    .dataframe tbody tr th {\n",
       "        vertical-align: top;\n",
       "    }\n",
       "\n",
       "    .dataframe thead th {\n",
       "        text-align: right;\n",
       "    }\n",
       "</style>\n",
       "<table border=\"1\" class=\"dataframe\">\n",
       "  <thead>\n",
       "    <tr style=\"text-align: right;\">\n",
       "      <th></th>\n",
       "      <th>Discharge,  Stausee Beyenburg</th>\n",
       "      <th>Water Level,  Stausee Beyenburg</th>\n",
       "      <th>Water Level,  Kluserbrücke</th>\n",
       "      <th>Precipitation,  Beyenburg</th>\n",
       "      <th>Water Level,  Leimbach</th>\n",
       "    </tr>\n",
       "    <tr>\n",
       "      <th>date</th>\n",
       "      <th></th>\n",
       "      <th></th>\n",
       "      <th></th>\n",
       "      <th></th>\n",
       "      <th></th>\n",
       "    </tr>\n",
       "  </thead>\n",
       "  <tbody>\n",
       "    <tr>\n",
       "      <th>2022-02-17 00:30:00</th>\n",
       "      <td>18.623333</td>\n",
       "      <td>92.466667</td>\n",
       "      <td>86.516667</td>\n",
       "      <td>10.0</td>\n",
       "      <td>14.766667</td>\n",
       "    </tr>\n",
       "    <tr>\n",
       "      <th>2022-02-17 01:00:00</th>\n",
       "      <td>18.900000</td>\n",
       "      <td>92.666667</td>\n",
       "      <td>88.133333</td>\n",
       "      <td>10.0</td>\n",
       "      <td>15.450000</td>\n",
       "    </tr>\n",
       "    <tr>\n",
       "      <th>2022-02-17 01:30:00</th>\n",
       "      <td>18.883333</td>\n",
       "      <td>92.983333</td>\n",
       "      <td>91.500000</td>\n",
       "      <td>10.0</td>\n",
       "      <td>16.966667</td>\n",
       "    </tr>\n",
       "    <tr>\n",
       "      <th>2022-02-17 02:00:00</th>\n",
       "      <td>19.008333</td>\n",
       "      <td>93.450000</td>\n",
       "      <td>96.033333</td>\n",
       "      <td>10.0</td>\n",
       "      <td>16.700000</td>\n",
       "    </tr>\n",
       "    <tr>\n",
       "      <th>2022-02-17 02:30:00</th>\n",
       "      <td>19.170000</td>\n",
       "      <td>94.016667</td>\n",
       "      <td>101.100000</td>\n",
       "      <td>10.0</td>\n",
       "      <td>18.600000</td>\n",
       "    </tr>\n",
       "    <tr>\n",
       "      <th>...</th>\n",
       "      <td>...</td>\n",
       "      <td>...</td>\n",
       "      <td>...</td>\n",
       "      <td>...</td>\n",
       "      <td>...</td>\n",
       "    </tr>\n",
       "    <tr>\n",
       "      <th>2022-06-12 22:00:00</th>\n",
       "      <td>1.628333</td>\n",
       "      <td>16.883333</td>\n",
       "      <td>20.050000</td>\n",
       "      <td>0.0</td>\n",
       "      <td>6.783333</td>\n",
       "    </tr>\n",
       "    <tr>\n",
       "      <th>2022-06-12 22:30:00</th>\n",
       "      <td>1.636000</td>\n",
       "      <td>17.000000</td>\n",
       "      <td>19.933333</td>\n",
       "      <td>0.0</td>\n",
       "      <td>6.866667</td>\n",
       "    </tr>\n",
       "    <tr>\n",
       "      <th>2022-06-12 23:00:00</th>\n",
       "      <td>1.656667</td>\n",
       "      <td>17.316667</td>\n",
       "      <td>19.933333</td>\n",
       "      <td>0.0</td>\n",
       "      <td>6.750000</td>\n",
       "    </tr>\n",
       "    <tr>\n",
       "      <th>2022-06-12 23:30:00</th>\n",
       "      <td>1.650000</td>\n",
       "      <td>17.225000</td>\n",
       "      <td>19.966667</td>\n",
       "      <td>0.0</td>\n",
       "      <td>6.800000</td>\n",
       "    </tr>\n",
       "    <tr>\n",
       "      <th>2022-06-13 00:00:00</th>\n",
       "      <td>1.670000</td>\n",
       "      <td>17.516667</td>\n",
       "      <td>20.033333</td>\n",
       "      <td>0.0</td>\n",
       "      <td>6.766667</td>\n",
       "    </tr>\n",
       "  </tbody>\n",
       "</table>\n",
       "<p>4464 rows × 5 columns</p>\n",
       "</div>"
      ],
      "text/plain": [
       "                     Discharge,  Stausee Beyenburg  \\\n",
       "date                                                 \n",
       "2022-02-17 00:30:00                      18.623333   \n",
       "2022-02-17 01:00:00                      18.900000   \n",
       "2022-02-17 01:30:00                      18.883333   \n",
       "2022-02-17 02:00:00                      19.008333   \n",
       "2022-02-17 02:30:00                      19.170000   \n",
       "...                                            ...   \n",
       "2022-06-12 22:00:00                       1.628333   \n",
       "2022-06-12 22:30:00                       1.636000   \n",
       "2022-06-12 23:00:00                       1.656667   \n",
       "2022-06-12 23:30:00                       1.650000   \n",
       "2022-06-13 00:00:00                       1.670000   \n",
       "\n",
       "                     Water Level,  Stausee Beyenburg  \\\n",
       "date                                                   \n",
       "2022-02-17 00:30:00                        92.466667   \n",
       "2022-02-17 01:00:00                        92.666667   \n",
       "2022-02-17 01:30:00                        92.983333   \n",
       "2022-02-17 02:00:00                        93.450000   \n",
       "2022-02-17 02:30:00                        94.016667   \n",
       "...                                              ...   \n",
       "2022-06-12 22:00:00                        16.883333   \n",
       "2022-06-12 22:30:00                        17.000000   \n",
       "2022-06-12 23:00:00                        17.316667   \n",
       "2022-06-12 23:30:00                        17.225000   \n",
       "2022-06-13 00:00:00                        17.516667   \n",
       "\n",
       "                     Water Level,  Kluserbrücke  Precipitation,  Beyenburg  \\\n",
       "date                                                                         \n",
       "2022-02-17 00:30:00                   86.516667                       10.0   \n",
       "2022-02-17 01:00:00                   88.133333                       10.0   \n",
       "2022-02-17 01:30:00                   91.500000                       10.0   \n",
       "2022-02-17 02:00:00                   96.033333                       10.0   \n",
       "2022-02-17 02:30:00                  101.100000                       10.0   \n",
       "...                                         ...                        ...   \n",
       "2022-06-12 22:00:00                   20.050000                        0.0   \n",
       "2022-06-12 22:30:00                   19.933333                        0.0   \n",
       "2022-06-12 23:00:00                   19.933333                        0.0   \n",
       "2022-06-12 23:30:00                   19.966667                        0.0   \n",
       "2022-06-13 00:00:00                   20.033333                        0.0   \n",
       "\n",
       "                     Water Level,  Leimbach  \n",
       "date                                         \n",
       "2022-02-17 00:30:00               14.766667  \n",
       "2022-02-17 01:00:00               15.450000  \n",
       "2022-02-17 01:30:00               16.966667  \n",
       "2022-02-17 02:00:00               16.700000  \n",
       "2022-02-17 02:30:00               18.600000  \n",
       "...                                     ...  \n",
       "2022-06-12 22:00:00                6.783333  \n",
       "2022-06-12 22:30:00                6.866667  \n",
       "2022-06-12 23:00:00                6.750000  \n",
       "2022-06-12 23:30:00                6.800000  \n",
       "2022-06-13 00:00:00                6.766667  \n",
       "\n",
       "[4464 rows x 5 columns]"
      ]
     },
     "execution_count": 109,
     "metadata": {},
     "output_type": "execute_result"
    }
   ],
   "source": [
    "raw_test_data = data_import(path_data=path_data_test)\n",
    "raw_test_data"
   ]
  },
  {
   "cell_type": "code",
   "execution_count": null,
   "metadata": {},
   "outputs": [],
   "source": [
    "scaler = StandardScaler()\n",
    "scaler_fitted = scaler.fit(raw_data)\n",
    "scaled_train_data = scaler_fitted.transform(raw_data)\n",
    "scaled_train_data"
   ]
  },
  {
   "cell_type": "code",
   "execution_count": 106,
   "metadata": {},
   "outputs": [
    {
     "name": "stdout",
     "output_type": "stream",
     "text": [
      "Discharge,  Stausee Beyenburg                           0\n",
      "Water Level,  Stausee Beyenburg                         0\n",
      "Water Level,  Kluserbrücke                              0\n",
      "Precipitation,  Beyenburg                               0\n",
      "Water Level,  Leimbach                                  0\n",
      "Precipitation,  Barmen Wupperverband Hauptverwaltung    0\n",
      "dtype: int64\n"
     ]
    },
    {
     "data": {
      "text/plain": [
       "array([[ 1.6362137 ,  2.50420343,  2.88853512,  1.14127286,  3.04525777],\n",
       "       [ 1.66881544,  2.51288825,  2.9685451 ,  1.14127286,  3.34311088],\n",
       "       [ 1.66685148,  2.52663922,  3.13516382,  1.14127286,  4.00419949],\n",
       "       ...,\n",
       "       [-0.36309783, -0.75911813, -0.40672122, -0.45755661, -0.44906777],\n",
       "       [-0.36388342, -0.76309867, -0.40507153, -0.45755661, -0.42727364],\n",
       "       [-0.36152667, -0.7504333 , -0.40177215, -0.45755661, -0.44180306]])"
      ]
     },
     "execution_count": 106,
     "metadata": {},
     "output_type": "execute_result"
    }
   ],
   "source": [
    "\n",
    "scaled_test_data = scaler_fitted.transform(raw_test_data)\n",
    "scaled_test_data"
   ]
  },
  {
   "cell_type": "code",
   "execution_count": 108,
   "metadata": {},
   "outputs": [
    {
     "data": {
      "text/plain": [
       "26522"
      ]
     },
     "execution_count": 108,
     "metadata": {},
     "output_type": "execute_result"
    }
   ],
   "source": [
    "split = int(len(scaled_train_data)*0.8)\n",
    "train_data = scaled_train_data[:split]\n",
    "val_data = scaled_train_data[split:]\n",
    "len(train_data)"
   ]
  },
  {
   "cell_type": "code",
   "execution_count": 52,
   "metadata": {},
   "outputs": [],
   "source": [
    "# This function creates two day-wise periodic features (sin and cos) and adds those as columns to the dataframe.\n",
    "# It also shows a little plot as demonstration.\n",
    "# Expand the function to also accord for two year-wise periodic features\n",
    "\n",
    "def periodizer(data: pd.DataFrame, date_format: str = 'day'):\n",
    "    \"\"\"\n",
    "    Function to create a daily or yearly periodic feature out of a given dataset with a readable timestamp.\n",
    "    date_format takes in a string (either 'day' or 'year') to define what feature has to be created.\n",
    "    Output is an exemplary presentation of the periodic feature,\n",
    "    with x-axis = time [h] and y-axis shows a sine or cosine signal.\n",
    "    \"\"\"\n",
    "\n",
    "    per_dataset = data\n",
    "\n",
    "    if date_format == 'day':\n",
    "        per_data = per_dataset.index.hour\n",
    "        # Day has 24 hours\n",
    "        day = 24\n",
    "        per_dataset['Day_sin'] = 0.5 *np.sin(per_data * 2 * np.pi/day) +0.5\n",
    "        per_dataset['Day_cos'] = 0.5 *np.cos(per_data * 2 * np.pi/day) +0.5\n",
    "\n",
    "        # Show a small example of how the signal looks\n",
    "        plt.plot(np.array(per_dataset['Day_sin'])[0:200])\n",
    "        plt.plot(np.array(per_dataset['Day_cos'])[0:200])\n",
    "\n",
    "        plt.show()\n",
    "        # return(per_dataset)\n",
    "\n",
    "    elif date_format == 'year':\n",
    "        per_data = per_dataset.index.day_of_year\n",
    "\n",
    "        # Year has 365 days\n",
    "        year = 365\n",
    "\n",
    "        per_dataset['Year_sin'] = 0.5 *np.sin(per_data * 2 * np.pi/year)+0.5\n",
    "        per_dataset['Year_cos'] = 0.5 *np.cos(per_data * 2 * np.pi/year)+0.5\n",
    "        # Show a small example of how the signal looks\n",
    "        plt.plot(np.array(per_dataset['Year_sin'])[0:20000])\n",
    "        plt.plot(np.array(per_dataset['Year_cos'])[0:20000])\n",
    "\n",
    "        plt.show()\n",
    "\n",
    "    else:\n",
    "        print(\"Incorrect date_format given in. Has to be either 'day' or 'year'.\")\n",
    "    return()"
   ]
  },
  {
   "cell_type": "code",
   "execution_count": 53,
   "metadata": {},
   "outputs": [],
   "source": [
    "def split_series(series, n_past, n_future):\n",
    "  #\n",
    "  # n_past ==> no of past observations\n",
    "  #\n",
    "  # n_future ==> no of future observations \n",
    "  #\n",
    "  X, y = list(), list()\n",
    "  for window_start in range(len(series)):\n",
    "    past_end = window_start + n_past\n",
    "    future_end = past_end + n_future\n",
    "    if future_end > len(series):\n",
    "      break\n",
    "    # slicing the past and future parts of the window\n",
    "    past, future = series[window_start:past_end, :], series[past_end:future_end, :]\n",
    "    X.append(past)\n",
    "    y.append(future)\n",
    "  return np.array(X), np.array(y)"
   ]
  },
  {
   "cell_type": "code",
   "execution_count": 117,
   "metadata": {},
   "outputs": [
    {
     "data": {
      "text/plain": [
       "(26463, 48, 5)"
      ]
     },
     "execution_count": 117,
     "metadata": {},
     "output_type": "execute_result"
    }
   ],
   "source": []
  },
  {
   "cell_type": "code",
   "execution_count": 113,
   "metadata": {},
   "outputs": [],
   "source": []
  },
  {
   "cell_type": "code",
   "execution_count": 116,
   "metadata": {},
   "outputs": [],
   "source": [
    "train_x, train_y = split_series(train_data,n_past=n_past, n_future= n_future)\n",
    "train_x = train_x.reshape((train_x.shape[0], train_x.shape[1],n_features))\n",
    "train_y = train_y.reshape((train_y.shape[0], train_y.shape[1], n_features))\n",
    "\n",
    "val_x, val_y = split_series(val_data,n_past=n_past, n_future= n_future)\n",
    "val_x = val_x.reshape((val_x.shape[0], val_x.shape[1],n_features))\n",
    "val_y = val_y.reshape((val_y.shape[0], val_y.shape[1], n_features))\n",
    "\n",
    "test_x, test_y = split_series(scaled_test_data, n_past=n_past, n_future= n_future)\n",
    "test_x = test_x.reshape((test_x.shape[0], test_x.shape[1],n_features))\n",
    "test_y = test_y.reshape((test_y.shape[0], test_y.shape[1], n_features))\n"
   ]
  },
  {
   "cell_type": "code",
   "execution_count": 139,
   "metadata": {},
   "outputs": [
    {
     "name": "stdout",
     "output_type": "stream",
     "text": [
      "KerasTensor(type_spec=TensorSpec(shape=(None, 12, 50), dtype=tf.float32, name=None), name='repeat_vector_5/Tile:0', description=\"created by layer 'repeat_vector_5'\")\n"
     ]
    }
   ],
   "source": [
    "#Encoder\n",
    "encoder_input = tf.keras.layers.Input(shape=(n_past,n_features))\n",
    "encoder_layer_1 = tf.keras.layers.LSTM(50, return_state= True)\n",
    "encoder_output = encoder_layer_1(encoder_input)\n",
    "initial_states = encoder_output[1:]\n",
    "\n",
    "#Decoder\n",
    "decoder_inputs = tf.keras.layers.RepeatVector(n_future)(encoder_output[0])\n",
    "print(decoder_inputs)\n",
    "decoder_layer_1 = tf.keras.layers.LSTM(50, return_sequences= True)(decoder_inputs, initial_state=initial_states)\n",
    "decoder_output = tf.keras.layers.TimeDistributed(tf.keras.layers.Dense(1))(decoder_layer_1)\n",
    "\n",
    "model_encoder1_decoder1 = tf.keras.models.Model(encoder_input, decoder_output)\n",
    "model_encoder1_decoder1.compile(optimizer=tf.keras.optimizers.Adam(), loss=tf.keras.losses.Huber())\n"
   ]
  },
  {
   "cell_type": "code",
   "execution_count": null,
   "metadata": {},
   "outputs": [],
   "source": [
    "history_e1d1=model_encoder1_decoder1.fit(train_x, train_y, epochs=20, validation_data=(val_x,val_y), batch_size=32, verbose=1)\n",
    "# summarize history for loss\n",
    "plt.plot(history_e1d1.history['loss'])\n",
    "plt.plot(history_e1d1.history['val_loss'])\n",
    "plt.title('model loss')\n",
    "plt.ylabel('loss')\n",
    "plt.xlabel('epoch')\n",
    "plt.legend(['train', 'test'], loc='upper left')\n",
    "plt.show()\n"
   ]
  },
  {
   "cell_type": "code",
   "execution_count": null,
   "metadata": {},
   "outputs": [],
   "source": []
  },
  {
   "cell_type": "code",
   "execution_count": 170,
   "metadata": {},
   "outputs": [],
   "source": [
    "#Encoder\n",
    "encoder_input_1 = tf.keras.layers.Input(shape=(n_past,n_features))\n",
    "encoder_layer_1 = tf.keras.layers.LSTM(50, return_state= True, return_sequences= True)\n",
    "encoder_output_1 = encoder_layer_1(encoder_input_1)\n",
    "initial_states_1 = encoder_output_1[1:]\n",
    "\n",
    "encoder_layer_2 = tf.keras.layers.LSTM(50, return_state= True)\n",
    "encoder_output_2 = encoder_layer_2(encoder_output_1[0])\n",
    "initial_states_2 = encoder_output_2[1:]\n",
    "\n",
    "#Decoder\n",
    "decoder_inputs = tf.keras.layers.RepeatVector(n_future)(encoder_output_2[0])\n",
    "decoder_layer_1 = tf.keras.layers.LSTM(50, return_sequences= True)(decoder_inputs, initial_state=initial_states_1)\n",
    "decoder_layer_2 = tf.keras.layers.LSTM(50, return_sequences= True)(decoder_layer_1, initial_state=initial_states_2)\n",
    "decoder_output = tf.keras.layers.TimeDistributed(tf.keras.layers.Dense(1))(decoder_layer_2)\n",
    "\n",
    "#Model\n",
    "model_encoder2_decoder2 = tf.keras.models.Model(encoder_input_1, decoder_output)\n",
    "model_encoder2_decoder2.compile(optimizer=tf.keras.optimizers.Adam(), loss=tf.keras.losses.MeanSquaredError())\n"
   ]
  },
  {
   "cell_type": "code",
   "execution_count": 171,
   "metadata": {},
   "outputs": [
    {
     "name": "stdout",
     "output_type": "stream",
     "text": [
      "Epoch 1/20\n",
      "827/827 [==============================] - 130s 142ms/step - loss: 0.3858 - val_loss: 0.5161\n",
      "Epoch 2/20\n",
      "827/827 [==============================] - 68s 82ms/step - loss: 0.3601 - val_loss: 0.4971\n",
      "Epoch 3/20\n",
      "827/827 [==============================] - 69s 83ms/step - loss: 0.3562 - val_loss: 0.4717\n",
      "Epoch 4/20\n",
      "827/827 [==============================] - 69s 84ms/step - loss: 0.3524 - val_loss: 0.4624\n",
      "Epoch 5/20\n",
      "827/827 [==============================] - 70s 85ms/step - loss: 0.3482 - val_loss: 0.4781\n",
      "Epoch 6/20\n",
      "827/827 [==============================] - 69s 84ms/step - loss: 0.3467 - val_loss: 0.4987\n",
      "Epoch 7/20\n",
      "827/827 [==============================] - 69s 84ms/step - loss: 0.3437 - val_loss: 0.5146\n",
      "Epoch 8/20\n",
      "827/827 [==============================] - 71s 86ms/step - loss: 0.3478 - val_loss: 0.5090\n",
      "Epoch 9/20\n",
      "827/827 [==============================] - 69s 84ms/step - loss: 0.3427 - val_loss: 0.5594\n",
      "Epoch 10/20\n",
      "827/827 [==============================] - 69s 84ms/step - loss: 0.3418 - val_loss: 0.5013\n",
      "Epoch 11/20\n",
      "827/827 [==============================] - 69s 84ms/step - loss: 0.3412 - val_loss: 0.5640\n",
      "Epoch 12/20\n",
      "827/827 [==============================] - 69s 84ms/step - loss: 0.3437 - val_loss: 0.4949\n",
      "Epoch 13/20\n",
      "827/827 [==============================] - 70s 84ms/step - loss: 0.3425 - val_loss: 0.6464\n",
      "Epoch 14/20\n",
      "827/827 [==============================] - 70s 85ms/step - loss: 0.3399 - val_loss: 0.6155\n",
      "Epoch 15/20\n",
      "827/827 [==============================] - 69s 84ms/step - loss: 0.3391 - val_loss: 0.6031\n",
      "Epoch 16/20\n",
      "827/827 [==============================] - 70s 84ms/step - loss: 0.3393 - val_loss: 0.5978\n",
      "Epoch 17/20\n",
      "827/827 [==============================] - 69s 84ms/step - loss: 0.3390 - val_loss: 0.6609\n",
      "Epoch 18/20\n",
      "827/827 [==============================] - 70s 84ms/step - loss: 0.3376 - val_loss: 0.7223\n",
      "Epoch 19/20\n",
      "827/827 [==============================] - 70s 84ms/step - loss: 0.3373 - val_loss: 0.6258\n",
      "Epoch 20/20\n",
      "827/827 [==============================] - 69s 84ms/step - loss: 0.3384 - val_loss: 0.6100\n"
     ]
    },
    {
     "data": {
      "image/png": "[encoded data removed]",
      "text/plain": [
       "<Figure size 640x480 with 1 Axes>"
      ]
     },
     "metadata": {},
     "output_type": "display_data"
    }
   ],
   "source": [
    "history_e2d2=model_encoder2_decoder2.fit(train_x, train_y, epochs=20, validation_data=(val_x,val_y), batch_size=32, verbose=1)\n",
    "# summarize history for loss\n",
    "plt.plot(history_e2d2.history['loss'])\n",
    "plt.plot(history_e2d2.history['val_loss'])\n",
    "plt.title('model loss')\n",
    "plt.ylabel('loss')\n",
    "plt.xlabel('epoch')\n",
    "plt.legend(['train', 'test'], loc='upper left')\n",
    "plt.show()\n"
   ]
  },
  {
   "cell_type": "code",
   "execution_count": 207,
   "metadata": {},
   "outputs": [
    {
     "name": "stdout",
     "output_type": "stream",
     "text": [
      "206/206 [==============================] - 7s 33ms/step\n"
     ]
    }
   ],
   "source": [
    "prediction = model_encoder2_decoder2.predict(x = val_x)"
   ]
  },
  {
   "cell_type": "code",
   "execution_count": 210,
   "metadata": {},
   "outputs": [
    {
     "data": {
      "text/plain": [
       "(6572, 12, 1)"
      ]
     },
     "execution_count": 210,
     "metadata": {},
     "output_type": "execute_result"
    }
   ],
   "source": [
    "prediction.shape"
   ]
  },
  {
   "cell_type": "code",
   "execution_count": 211,
   "metadata": {},
   "outputs": [
    {
     "data": {
      "text/plain": [
       "(6572, 12, 5)"
      ]
     },
     "execution_count": 211,
     "metadata": {},
     "output_type": "execute_result"
    }
   ],
   "source": [
    "val_y.shape"
   ]
  },
  {
   "cell_type": "code",
   "execution_count": 191,
   "metadata": {},
   "outputs": [
    {
     "data": {
      "text/plain": [
       "array([-0.28540357, -0.27904034, -0.27000612, -0.2660782 , -0.26489982,\n",
       "       -0.2658818 , -0.26686378, -0.26342685, -0.26509622, -0.26922053,\n",
       "       -0.26466415, -0.26843495])"
      ]
     },
     "execution_count": 191,
     "metadata": {},
     "output_type": "execute_result"
    }
   ],
   "source": []
  },
  {
   "cell_type": "code",
   "execution_count": 200,
   "metadata": {},
   "outputs": [
    {
     "data": {
      "text/plain": [
       "(12, 5)"
      ]
     },
     "execution_count": 200,
     "metadata": {},
     "output_type": "execute_result"
    }
   ],
   "source": [
    "a = np.concatenate([prediction[0],prediction[0],prediction[0],prediction[0],prediction[0]], axis = 1)\n",
    "a.shape"
   ]
  },
  {
   "cell_type": "code",
   "execution_count": 219,
   "metadata": {},
   "outputs": [
    {
     "data": {
      "text/plain": [
       "(26522, 5)"
      ]
     },
     "execution_count": 219,
     "metadata": {},
     "output_type": "execute_result"
    }
   ],
   "source": [
    "train_data.shape"
   ]
  },
  {
   "cell_type": "code",
   "execution_count": 221,
   "metadata": {},
   "outputs": [
    {
     "data": {
      "text/plain": [
       "(6572, 5)"
      ]
     },
     "execution_count": 221,
     "metadata": {},
     "output_type": "execute_result"
    }
   ],
   "source": [
    "val_y[:,3].shape"
   ]
  },
  {
   "cell_type": "code",
   "execution_count": 215,
   "metadata": {},
   "outputs": [
    {
     "data": {
      "image/png": "[encoded data removed]",
      "text/plain": [
       "<Figure size 640x480 with 1 Axes>"
      ]
     },
     "metadata": {},
     "output_type": "display_data"
    }
   ],
   "source": [
    "\n",
    "plt.plot(scaler_fitted.inverse_transform(a)[0])\n",
    "plt.plot(scaler_fitted.inverse_transform(val_y[0]))\n",
    "plt.title('model loss')\n",
    "plt.ylabel('loss')\n",
    "plt.xlabel('epoch')\n",
    "plt.legend(['train', 'test'], loc='upper left')\n",
    "plt.show()"
   ]
  },
  {
   "cell_type": "code",
   "execution_count": 173,
   "metadata": {},
   "outputs": [
    {
     "data": {
      "text/plain": [
       "array([[2.6085114],\n",
       "       [2.4644089],\n",
       "       [2.3511624],\n",
       "       [2.2632394],\n",
       "       [2.2022648],\n",
       "       [2.1689515],\n",
       "       [2.1570697],\n",
       "       [2.1593451],\n",
       "       [2.1695805],\n",
       "       [2.1831508],\n",
       "       [2.1969829],\n",
       "       [2.2092004]], dtype=float32)"
      ]
     },
     "execution_count": 173,
     "metadata": {},
     "output_type": "execute_result"
    }
   ],
   "source": [
    "prediction[0]"
   ]
  },
  {
   "cell_type": "code",
   "execution_count": 142,
   "metadata": {},
   "outputs": [
    {
     "name": "stdout",
     "output_type": "stream",
     "text": [
      "Epoch 1/20\n",
      "827/827 [==============================] - 36s 35ms/step - loss: 0.1088 - val_loss: 0.1710\n",
      "Epoch 2/20\n",
      "827/827 [==============================] - 28s 34ms/step - loss: 0.1052 - val_loss: 0.1760\n",
      "Epoch 3/20\n",
      "827/827 [==============================] - 28s 34ms/step - loss: 0.1046 - val_loss: 0.1716\n",
      "Epoch 4/20\n",
      "827/827 [==============================] - 28s 34ms/step - loss: 0.1041 - val_loss: 0.1741\n",
      "Epoch 5/20\n",
      "827/827 [==============================] - 28s 34ms/step - loss: 0.1041 - val_loss: 0.1763\n",
      "Epoch 6/20\n",
      "827/827 [==============================] - 29s 35ms/step - loss: 0.1038 - val_loss: 0.1798\n",
      "Epoch 7/20\n",
      "827/827 [==============================] - 29s 35ms/step - loss: 0.1035 - val_loss: 0.1768\n",
      "Epoch 8/20\n",
      "827/827 [==============================] - 29s 35ms/step - loss: 0.1034 - val_loss: 0.1798\n",
      "Epoch 9/20\n",
      "827/827 [==============================] - 30s 36ms/step - loss: 0.1032 - val_loss: 0.1788\n",
      "Epoch 10/20\n",
      "827/827 [==============================] - 29s 35ms/step - loss: 0.1031 - val_loss: 0.1872\n",
      "Epoch 11/20\n",
      "827/827 [==============================] - 29s 35ms/step - loss: 0.1030 - val_loss: 0.1881\n",
      "Epoch 12/20\n",
      "827/827 [==============================] - 29s 35ms/step - loss: 0.1029 - val_loss: 0.1788\n",
      "Epoch 13/20\n",
      "827/827 [==============================] - 28s 34ms/step - loss: 0.1026 - val_loss: 0.1890\n",
      "Epoch 14/20\n",
      "827/827 [==============================] - 28s 34ms/step - loss: 0.1027 - val_loss: 0.1898\n",
      "Epoch 15/20\n",
      "827/827 [==============================] - 29s 34ms/step - loss: 0.1025 - val_loss: 0.1938\n",
      "Epoch 16/20\n",
      "827/827 [==============================] - 29s 34ms/step - loss: 0.1024 - val_loss: 0.1874\n",
      "Epoch 17/20\n",
      "827/827 [==============================] - 28s 34ms/step - loss: 0.1022 - val_loss: 0.1840\n",
      "Epoch 18/20\n",
      "827/827 [==============================] - 29s 35ms/step - loss: 0.1023 - val_loss: 0.1878\n",
      "Epoch 19/20\n",
      "827/827 [==============================] - 29s 35ms/step - loss: 0.1021 - val_loss: 0.1930\n",
      "Epoch 20/20\n",
      "827/827 [==============================] - 29s 35ms/step - loss: 0.1021 - val_loss: 0.1914\n"
     ]
    },
    {
     "data": {
      "image/png": "[encoded data removed]",
      "text/plain": [
       "<Figure size 640x480 with 1 Axes>"
      ]
     },
     "metadata": {},
     "output_type": "display_data"
    }
   ],
   "source": []
  },
  {
   "cell_type": "code",
   "execution_count": null,
   "metadata": {},
   "outputs": [],
   "source": []
  },
  {
   "cell_type": "code",
   "execution_count": null,
   "metadata": {},
   "outputs": [],
   "source": []
  }
 ],
 "metadata": {
  "kernelspec": {
   "display_name": "Python 3.9.7 ('NLP')",
   "language": "python",
   "name": "python3"
  },
  "language_info": {
   "codemirror_mode": {
    "name": "ipython",
    "version": 3
   },
   "file_extension": ".py",
   "mimetype": "text/x-python",
   "name": "python",
   "nbconvert_exporter": "python",
   "pygments_lexer": "ipython3",
   "version": "3.9.7 (default, Sep 16 2021, 16:59:28) [MSC v.1916 64 bit (AMD64)]"
  },
  "orig_nbformat": 4,
  "vscode": {
   "interpreter": {
    "hash": "1632b2aa94c1050e8b2db2ed655383e71460af4b6719d197b6ce7916e285ff46"
   }
  }
 },
 "nbformat": 4,
 "nbformat_minor": 2
}
